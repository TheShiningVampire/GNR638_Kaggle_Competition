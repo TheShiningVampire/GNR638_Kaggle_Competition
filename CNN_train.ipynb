{
 "cells": [
  {
   "cell_type": "markdown",
   "source": [
    "## Split the training folder to train and validation folders\r\n"
   ],
   "metadata": {}
  },
  {
   "cell_type": "code",
   "execution_count": 4,
   "source": [
    "import splitfolders\r\n",
    "\r\n",
    "splitfolders.ratio('Dataset\\\\gnr6382021\\\\train', output='Dataset\\\\gnr6382021\\\\train', seed=1337, ratio=(.8, .2))"
   ],
   "outputs": [
    {
     "output_type": "stream",
     "name": "stderr",
     "text": [
      "Copying files: 500 files [00:00, 584.89 files/s]\n"
     ]
    }
   ],
   "metadata": {}
  },
  {
   "cell_type": "markdown",
   "source": [
    "After this the folder structure is adjusted to have the following structure:\r\n",
    "\r\n",
    "\r\n",
    "```\r\n",
    "Dataset\r\n",
    "├── train\r\n",
    "│   ├──basketball_court\r\n",
    "│   ├──bridge\r\n",
    "│   ├──crosswalk   \r\n",
    "│   ├──golf_course\r\n",
    "│   ├──oil_well\r\n",
    "│   ├──overpass\r\n",
    "│   ├──railway\r\n",
    "|   ├──runway\r\n",
    "|   ├──swimming_pool\r\n",
    "|   ├──tennis_court\r\n",
    "|── val\r\n",
    "│   ├──basketball_court\r\n",
    "│   ├──bridge\r\n",
    "│   ├──crosswalk\r\n",
    "│   ├──golf_course\r\n",
    "│   ├──oil_well\r\n",
    "│   ├──overpass\r\n",
    "│   ├──railway\r\n",
    "|   ├──runway\r\n",
    "|   ├──swimming_pool\r\n",
    "|   ├──tennis_court\r\n",
    "└── test\r\n"
   ],
   "metadata": {}
  },
  {
   "cell_type": "markdown",
   "source": [
    "## Imports"
   ],
   "metadata": {}
  },
  {
   "cell_type": "code",
   "execution_count": 1,
   "source": [
    "import numpy as np\r\n",
    "import torch\r\n",
    "import torch.nn as nn\r\n",
    "import torch.nn.functional as F\r\n",
    "import torch.optim as optim\r\n",
    "from torch.utils.data import Dataset, DataLoader\r\n",
    "from torchvision import transforms, utils\r\n",
    "from torch.utils.data.sampler import SubsetRandomSampler\r\n"
   ],
   "outputs": [],
   "metadata": {}
  },
  {
   "cell_type": "code",
   "execution_count": null,
   "source": [],
   "outputs": [],
   "metadata": {}
  }
 ],
 "metadata": {
  "orig_nbformat": 4,
  "language_info": {
   "name": "python",
   "version": "3.7.10",
   "mimetype": "text/x-python",
   "codemirror_mode": {
    "name": "ipython",
    "version": 3
   },
   "pygments_lexer": "ipython3",
   "nbconvert_exporter": "python",
   "file_extension": ".py"
  },
  "kernelspec": {
   "name": "python3",
   "display_name": "Python 3.7.10 64-bit ('gpu-pytorch': conda)"
  },
  "interpreter": {
   "hash": "3d1484f6a5966aacf1d005944f88794f1e4469136ed9878e517c1d6594061a94"
  }
 },
 "nbformat": 4,
 "nbformat_minor": 2
}